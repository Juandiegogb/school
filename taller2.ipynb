{
  "cells": [
    {
      "cell_type": "markdown",
      "metadata": {
        "id": "bmj4Kj7fcX25"
      },
      "source": [
        "## <a id='toc1_5_'></a>[Ejemplos Prácticos y Ejercicios](#toc0_)\n",
        "\n",
        "1. **Ejercicio 1: Creación de Clases y Objetos**\n",
        "   \n",
        "- Crear una clase para algo que te guste mucho (película, carros, motos, anime, música, etc) y agrega al menos 5 atributos relacionados. Implementar métodos para establecer y obtener estos valores.\n"
      ]
    },
    {
      "cell_type": "code",
      "execution_count": 2,
      "metadata": {
        "id": "7nopX872cX25",
        "vscode": {
          "languageId": "java"
        }
      },
      "outputs": [
        {
          "name": "stdout",
          "output_type": "stream",
          "text": [
            "hola\n"
          ]
        }
      ],
      "source": [
        "public class starWars {\n",
        "  public String type = \"saga\";\n",
        "  public String language = \"english\";\n",
        "  public String creator = \"George Lucas\";\n",
        "  public String gender = \"Sci Fi\";\n",
        "  public int quantity = 9;\n",
        "\n",
        "\n",
        "  public void getInfo(){\n",
        "    system.out.println\n",
        "  }\n",
        "\n",
        "}"
      ]
    },
    {
      "cell_type": "markdown",
      "metadata": {
        "id": "vijrTqFocX25"
      },
      "source": [
        "   - Crear una subclase que herede de los atributos y métodos de la clase creada anteriormente. Además, añada un método que imprima un mensaje utilizando los atributos definidos."
      ]
    },
    {
      "cell_type": "code",
      "execution_count": 1,
      "metadata": {
        "id": "nHbz95xpcX25",
        "vscode": {
          "languageId": "java"
        }
      },
      "outputs": [
        {
          "ename": "CompilationException",
          "evalue": "",
          "output_type": "error",
          "traceback": [
            "\u001b[1m\u001b[30m|   \u001b[1m\u001b[30mprint(\u001b[0m\u001b[1m\u001b[30m\u001b[41m\u001b[0m\u001b[1m\u001b[30m'hola')\u001b[0m",
            "\u001b[1m\u001b[31munclosed character literal\u001b[0m",
            ""
          ]
        }
      ],
      "source": [
        "public class"
      ]
    },
    {
      "cell_type": "markdown",
      "metadata": {
        "id": "LSRAZhNDcX26"
      },
      "source": [
        "2. **Ejercicio 2: Uso de Herencia y Polimorfismo**\n",
        "   \n",
        "- Crear la clase `Licores` con un al menos 5 atributos y dos métodos: uno debe ser `PrecioPorPersona(NoPersonas)` y otro que inventes."
      ]
    },
    {
      "cell_type": "code",
      "execution_count": null,
      "metadata": {
        "id": "4C_zVTrWcX26",
        "vscode": {
          "languageId": "java"
        }
      },
      "outputs": [],
      "source": [
        "// Agrega tu código aquí"
      ]
    },
    {
      "cell_type": "markdown",
      "metadata": {
        "id": "fQx-5zVEcX26"
      },
      "source": [
        "   - Crear 3 clases derivadas: `Pola`, `Rones`, y otra que te guste, tales  que sobrescriban los método `PrecioPorPersona(NoPersonas)` y el que agregaste. Implementar una clase de prueba para demostrar el polimorfismo."
      ]
    },
    {
      "cell_type": "code",
      "execution_count": null,
      "metadata": {
        "id": "UGxLjvQgcX26",
        "vscode": {
          "languageId": "java"
        }
      },
      "outputs": [],
      "source": [
        "// Agrega tu código aquí"
      ]
    }
  ],
  "metadata": {
    "colab": {
      "provenance": []
    },
    "kernelspec": {
      "display_name": "Java",
      "language": "java",
      "name": "java"
    },
    "language_info": {
      "codemirror_mode": "java",
      "file_extension": ".jshell",
      "mimetype": "text/x-java-source",
      "name": "Java",
      "pygments_lexer": "java",
      "version": "17.0.12+7-Ubuntu-1ubuntu224.04"
    }
  },
  "nbformat": 4,
  "nbformat_minor": 0
}
